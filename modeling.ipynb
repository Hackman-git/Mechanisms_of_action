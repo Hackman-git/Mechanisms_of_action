{
  "nbformat": 4,
  "nbformat_minor": 0,
  "metadata": {
    "colab": {
      "name": "modeling",
      "provenance": [],
      "collapsed_sections": [],
      "toc_visible": true,
      "mount_file_id": "1XkeMw32q6bxd-3PWK3DiNnd3lhtsWuQf",
      "authorship_tag": "ABX9TyN3m5JIC6NvhocMfQXluZbL",
      "include_colab_link": true
    },
    "kernelspec": {
      "name": "python3",
      "display_name": "Python 3"
    }
  },
  "cells": [
    {
      "cell_type": "markdown",
      "metadata": {
        "id": "view-in-github",
        "colab_type": "text"
      },
      "source": [
        "<a href=\"https://colab.research.google.com/github/Hackman-git/Mechanisms_of_action/blob/master/modeling.ipynb\" target=\"_parent\"><img src=\"https://colab.research.google.com/assets/colab-badge.svg\" alt=\"Open In Colab\"/></a>"
      ]
    },
    {
      "cell_type": "markdown",
      "metadata": {
        "id": "EcP_g8iptKNQ"
      },
      "source": [
        "What has been tried so far:\n",
        "\n",
        "*   Scaling numeric features (improved loss)\n",
        "*   Label smoothing (improved loss)\n",
        "*   Clipping (improved loss)\n",
        "*   Learning rate selection (improved loss)\n",
        "*   Batch size selection (128 is best)\n",
        "*   Model architectures (3 wide layers seem best so far. Wide nets are preferred over deep nets for this task)\n",
        "*   Transfer learning (didn't improve, more or less same)\n",
        "*   Upsampling with multi-label SMOTE (didn't improve)\n",
        "\n",
        "Left to explore:\n",
        "\n",
        "*   Feature selection\n",
        "*   Dimensionality reduction\n",
        "*   Dealing with imbalance (MLSMOTE didn't help and I don't know why)\n",
        "\n",
        "\n",
        "\n",
        "\n"
      ]
    },
    {
      "cell_type": "code",
      "metadata": {
        "id": "RvINK1m2A3HL"
      },
      "source": [
        "import pandas as pd\n",
        "import numpy as np\n",
        "import matplotlib.pyplot as plt\n",
        "import seaborn as sns\n",
        "import tensorflow as tf\n",
        "import random\n",
        "import tensorflow_addons as tfa\n",
        "from tensorflow import keras\n",
        "from keras import backend\n",
        "from keras.layers import Dense, BatchNormalization, Dropout\n",
        "from sklearn.model_selection import KFold\n",
        "from sklearn.metrics import log_loss\n",
        "from sklearn.preprocessing import OneHotEncoder, StandardScaler\n",
        "from sklearn.neighbors import NearestNeighbors\n",
        "from sklearn.utils import class_weight\n",
        "# from iterstrat.ml_stratifiers import MultilabelStratifiedKFold"
      ],
      "execution_count": 1,
      "outputs": []
    },
    {
      "cell_type": "code",
      "metadata": {
        "id": "Iy0_7tKmA9nZ"
      },
      "source": [
        "train_x = pd.read_csv('/content/drive/My Drive/MOA/Data/train_features.csv')\n",
        "train_y = pd.read_csv(\"/content/drive/My Drive/MOA/Data/train_targets_scored.csv\")\n",
        "train_y_ns = pd.read_csv(\"/content/drive/My Drive/MOA/Data/train_targets_nonscored.csv\")\n",
        "test = pd.read_csv(\"/content/drive/My Drive/MOA/Data/test_features.csv\")\n",
        "submit = pd.read_csv(\"/content/drive/My Drive/MOA/Data/sample_submission.csv\")"
      ],
      "execution_count": 2,
      "outputs": []
    },
    {
      "cell_type": "code",
      "metadata": {
        "id": "6Gd7OFPPqzIJ"
      },
      "source": [
        "def preprocessing(train_features, train_y, train_y_ns, test_features):\n",
        "    # map cp_type to binary\n",
        "    train_features.cp_type = train_features.cp_type.map({'trt_cp': 1, 'ctl_vehicle': 0})\n",
        "    test_features.cp_type = test_features.cp_type.map({'trt_cp': 1, 'ctl_vehicle': 0})\n",
        "\n",
        "    # we don't need ctl_vehicle\n",
        "    train_y = train_y.loc[train_features['cp_type']==1].reset_index(drop=True)\n",
        "    train_y_ns = train_y_ns.loc[train_features['cp_type']==1].reset_index(drop=True)\n",
        "    train_features = train_features.loc[train_features['cp_type']==1].reset_index(drop=True)\n",
        "\n",
        "    cols = train_features.columns\n",
        "    cell_cols = [col for col in cols if col.startswith(\"c-\")]\n",
        "    gene_cols = [col for col in cols if col.startswith('g-')]\n",
        "\n",
        "    # numeric cols\n",
        "    num = ['cp_time'] + cell_cols + gene_cols\n",
        "    rem = ['cp_type']\n",
        "    train_x_num = train_features[num]\n",
        "\n",
        "    # categorical cols\n",
        "    cat = ['cp_dose']\n",
        "    train_x_cat = train_features[cat]\n",
        "\n",
        "    # one-hot encoding\n",
        "    oneHotEnc = OneHotEncoder(handle_unknown='ignore', sparse=False)\n",
        "    fit = oneHotEnc.fit_transform(train_x_cat)\n",
        "    train_x_oneH = pd.DataFrame(fit, columns=['dose_1', 'dose_2'])\n",
        "    fit_ = oneHotEnc.transform(test_features[cat])\n",
        "    test_oneH = pd.DataFrame(fit_, columns=['dose_1', 'dose_2'])\n",
        "\n",
        "    # scaling numeric features\n",
        "    scaler = StandardScaler()\n",
        "    train_x_num_tr = scaler.fit_transform(train_x_num)\n",
        "    train_x_num_tr = pd.DataFrame(train_x_num_tr, columns=num)\n",
        "\n",
        "    test_num_tr = scaler.transform(test_features[num])\n",
        "    test_num_tr = pd.DataFrame(test_num_tr, columns=num)\n",
        "\n",
        "    # merging all transformed columns\n",
        "    train_x_trans = pd.concat([train_features[['cp_type']].reset_index(drop=True),\n",
        "                           train_x_oneH.reset_index(drop=True)], axis=1)\n",
        "    train_x_trans = pd.concat([train_x_trans.reset_index(drop=True),\n",
        "                            train_x_num_tr.reset_index(drop=True)], axis=1)\n",
        "    test_trans = pd.concat([test_features[['cp_type']].reset_index(drop=True),\n",
        "                            test_oneH.reset_index(drop=True)], axis=1)\n",
        "    test_trans = pd.concat([test_trans.reset_index(drop=True),\n",
        "                            test_num_tr.reset_index(drop=True)], axis=1)\n",
        "    \n",
        "    # dropping sig_id (not a feature)\n",
        "    train_y.drop(columns=['sig_id'], inplace=True)\n",
        "    train_y_ns.drop(columns=['sig_id'], inplace=True)\n",
        "    \n",
        "    return (train_x_trans, train_y, train_y_ns, test_trans)"
      ],
      "execution_count": 3,
      "outputs": []
    },
    {
      "cell_type": "code",
      "metadata": {
        "id": "G3GiwM_lfAhs"
      },
      "source": [
        "train_x_trans, train_y, train_y_ns, test_trans = preprocessing(train_x, train_y, train_y_ns, test)"
      ],
      "execution_count": 4,
      "outputs": []
    },
    {
      "cell_type": "code",
      "metadata": {
        "id": "k9dEZyCXYq0g",
        "outputId": "c420515c-55c7-44bf-89f8-042f578f5583",
        "colab": {
          "base_uri": "https://localhost:8080/",
          "height": 35
        }
      },
      "source": [
        "train_x_trans.shape"
      ],
      "execution_count": 5,
      "outputs": [
        {
          "output_type": "execute_result",
          "data": {
            "text/plain": [
              "(21948, 876)"
            ]
          },
          "metadata": {
            "tags": []
          },
          "execution_count": 5
        }
      ]
    },
    {
      "cell_type": "code",
      "metadata": {
        "id": "wYTHx6B_Yq5-"
      },
      "source": [
        "all_features = train_x_trans.columns"
      ],
      "execution_count": 6,
      "outputs": []
    },
    {
      "cell_type": "code",
      "metadata": {
        "id": "-ObVu28C20t1"
      },
      "source": [
        "def get_tail_label(df, ql=[0.05, 1.]) -> list:\n",
        "    \"\"\"\n",
        "    Find the underrepresented targets.\n",
        "    Underrepresented targets are those which are observed less than the median occurance.\n",
        "    Targets beyond a quantile limit are filtered.\n",
        "    \"\"\"\n",
        "    irlbl = df.sum(axis=0)\n",
        "    irlbl = irlbl[(irlbl > irlbl.quantile(ql[0])) & ((irlbl < irlbl.quantile(ql[1])))]  # Filtering\n",
        "    irlbl = irlbl.max() / irlbl\n",
        "    threshold_irlbl = irlbl.median()\n",
        "    tail_label = irlbl[irlbl > threshold_irlbl].index.tolist()\n",
        "    return tail_label"
      ],
      "execution_count": 7,
      "outputs": []
    },
    {
      "cell_type": "code",
      "metadata": {
        "id": "nCcdbXI021iW"
      },
      "source": [
        "def get_minority_samples(X, y, ql=[0.05, 1.]):\n",
        "    \"\"\"\n",
        "    return\n",
        "    X_sub: pandas.DataFrame, the feature vector minority dataframe\n",
        "    y_sub: pandas.DataFrame, the target vector minority dataframe\n",
        "    \"\"\"\n",
        "    tail_labels = get_tail_label(y, ql=ql)\n",
        "    index = y[y[tail_labels].apply(lambda x: (x == 1).any(), axis=1)].index.tolist()\n",
        "    \n",
        "    X_sub = X[X.index.isin(index)].reset_index(drop = True)\n",
        "    y_sub = y[y.index.isin(index)].reset_index(drop = True)\n",
        "    return X_sub, y_sub"
      ],
      "execution_count": 8,
      "outputs": []
    },
    {
      "cell_type": "code",
      "metadata": {
        "id": "c17XbWf021qv"
      },
      "source": [
        "def nearest_neighbour(X, neigh) -> list:\n",
        "    \"\"\"\n",
        "    Give index of 10 nearest neighbor of all the instance\n",
        "    \n",
        "    args\n",
        "    X: np.array, array whose nearest neighbor has to find\n",
        "    \n",
        "    return\n",
        "    indices: list of list, index of 5 NN of each element in X\n",
        "    \"\"\"\n",
        "    nbs = NearestNeighbors(n_neighbors=neigh, metric='euclidean', algorithm='kd_tree').fit(X)\n",
        "    euclidean, indices = nbs.kneighbors(X)\n",
        "    return indices"
      ],
      "execution_count": 9,
      "outputs": []
    },
    {
      "cell_type": "code",
      "metadata": {
        "id": "xIPL00Iu22HH"
      },
      "source": [
        "def MLSMOTE(X, y, n_sample, neigh=5):\n",
        "    \"\"\"\n",
        "    Give the augmented data using MLSMOTE algorithm\n",
        "    \n",
        "    args\n",
        "    X: pandas.DataFrame, input vector DataFrame\n",
        "    y: pandas.DataFrame, feature vector dataframe\n",
        "    n_sample: int, number of newly generated sample\n",
        "    \n",
        "    return\n",
        "    new_X: pandas.DataFrame, augmented feature vector data\n",
        "    target: pandas.DataFrame, augmented target vector data\n",
        "    \"\"\"\n",
        "    indices2 = nearest_neighbour(X, neigh=5)\n",
        "    n = len(indices2)\n",
        "    new_X = np.zeros((n_sample, X.shape[1]))\n",
        "    target = np.zeros((n_sample, y.shape[1]))\n",
        "    for i in range(n_sample):\n",
        "        reference = random.randint(0, n-1)\n",
        "        neighbor = random.choice(indices2[reference, 1:])\n",
        "        all_point = indices2[reference]\n",
        "        nn_df = y[y.index.isin(all_point)]\n",
        "        ser = nn_df.sum(axis = 0, skipna = True)\n",
        "        target[i] = np.array([1 if val > 0 else 0 for val in ser])\n",
        "        ratio = random.random()\n",
        "        gap = X.loc[reference,:] - X.loc[neighbor,:]\n",
        "        new_X[i] = np.array(X.loc[reference,:] + ratio * gap)\n",
        "    new_X = pd.DataFrame(new_X, columns=X.columns)\n",
        "    target = pd.DataFrame(target, columns=y.columns)\n",
        "    \n",
        "    return new_X, target"
      ],
      "execution_count": 10,
      "outputs": []
    },
    {
      "cell_type": "code",
      "metadata": {
        "id": "ViXs7-Zb22EQ",
        "outputId": "49a6328e-9fca-4a67-ceac-1a9f77128e29",
        "colab": {
          "base_uri": "https://localhost:8080/",
          "height": 35
        }
      },
      "source": [
        "# train_x_sub, train_y_sub = get_minority_samples(train_x_trans, train_y)\n",
        "# train_x_aug, train_y_aug = MLSMOTE(train_x_sub, train_y_sub, 3000, 5)\n",
        "# train_x_ups = train_x_trans.append(train_x_aug, ignore_index=True)\n",
        "# train_y_ups = train_y.append(train_y_aug, ignore_index=True)\n",
        "# train_x_ups.shape, train_y_ups.shape"
      ],
      "execution_count": 142,
      "outputs": [
        {
          "output_type": "execute_result",
          "data": {
            "text/plain": [
              "((24948, 876), (24948, 206))"
            ]
          },
          "metadata": {
            "tags": []
          },
          "execution_count": 142
        }
      ]
    },
    {
      "cell_type": "code",
      "metadata": {
        "id": "c690BVjJYqsn"
      },
      "source": [
        "def model_init(out_layer_size=206):\n",
        "    # initializing the model\n",
        "    model = keras.models.Sequential([\n",
        "        Dense(2200, activation='elu', input_shape=(876,), kernel_initializer='he_normal'),\n",
        "        BatchNormalization(),\n",
        "        Dropout(0.4),\n",
        "        Dense(1024, activation='elu',kernel_initializer='he_normal'),\n",
        "        BatchNormalization(),\n",
        "        Dropout(0.4),\n",
        "        Dense(1024, activation='elu',kernel_initializer='he_normal'),\n",
        "        BatchNormalization(),\n",
        "        Dropout(0.4),\n",
        "        Dense(out_layer_size, activation='sigmoid')\n",
        "    ])\n",
        "    \n",
        "    # compile model\n",
        "    model.compile(loss=keras.losses.BinaryCrossentropy(label_smoothing=0.001), \n",
        "                  optimizer=keras.optimizers.Adam(learning_rate=0.0005),\n",
        "                  metrics=logloss)\n",
        "    \n",
        "    \n",
        "    return (model)"
      ],
      "execution_count": 144,
      "outputs": []
    },
    {
      "cell_type": "code",
      "metadata": {
        "id": "N_g1-6pnxY8Q"
      },
      "source": [
        "# clipping thresholds\n",
        "c_min = 0.001\n",
        "c_max = 0.999"
      ],
      "execution_count": 145,
      "outputs": []
    },
    {
      "cell_type": "code",
      "metadata": {
        "id": "22_-9fkiI3BG"
      },
      "source": [
        "def training(train_x_trans, train_y, train_y_ns, k=5, batch_size=128, epochs=50, num_seeds=2, use_nonscored=True):\n",
        "    '''\n",
        "    This function trains the neural net on the non-scored targets (if use_nonscored=True) and uses\n",
        "    transfer learning on the scored targets, otherwise it trains only the scored targets.\n",
        "    '''\n",
        "    num_labels = train_y.shape[1]\n",
        "    num_train = train_x_trans.shape[0]\n",
        "    num_features = train_x_trans.shape[1]\n",
        "    num_test = test_trans.shape[0]\n",
        "\n",
        "    # initialize a number of seeds\n",
        "    seeds = np.random.randint(0,100,size=num_seeds)\n",
        "    # initialize predictions dataframe\n",
        "    y_pred = np.zeros((num_test, num_labels))\n",
        "    # initialize out of fold loss\n",
        "    oof_loss = tf.constant(0.0)\n",
        "    # store model history\n",
        "    model_hist = []\n",
        "\n",
        "    for seed in seeds:\n",
        "        fold = 1\n",
        "        # stratified split\n",
        "        strat = KFold(k, shuffle=True, random_state=seed)\n",
        "        for fold, (train, test) in enumerate(strat.split(train_x_trans, train_y)):\n",
        "            # subset of data for training and cross-validation\n",
        "            x_train = train_x_trans.values[train]\n",
        "            x_test = train_x_trans.values[test]\n",
        "            y_train = train_y.values[train]\n",
        "            y_train_ns = train_y_ns.values[train]\n",
        "            y_test = train_y.values[test]\n",
        "            y_test_ns = train_y_ns.values[test]\n",
        "\n",
        "            print('\\nSeed '+str(seed)+', fold '+str(fold+1))\n",
        "            \n",
        "            # defining callbacks\n",
        "            lr_scheduler = keras.callbacks.ReduceLROnPlateau(\n",
        "                factor=0.2, patience=4, monitor='val_logloss',mode='min',min_lr=1E-5)\n",
        "            \n",
        "            early_stopping = keras.callbacks.EarlyStopping(\n",
        "                monitor='val_logloss', min_delta=1E-5, patience=6,\n",
        "                mode='min',restore_best_weights=True)\n",
        "            \n",
        "            # save the best model with a checkpoint callback\n",
        "            checkpoint = tf.keras.callbacks.ModelCheckpoint(\n",
        "                    '/content/drive/My Drive/MOA/Models/Model_Seed_'+str(seed)+'_fold_'+str(fold)+'.h5',\n",
        "                    save_best_only=True)\n",
        "            \n",
        "            model2 = model_init()\n",
        "\n",
        "            if use_nonscored:\n",
        "                # train on non-scored targets the use transfer learning\n",
        "                model = model_init(out_layer_size=402)\n",
        "                checkpoint_ns = tf.keras.callbacks.ModelCheckpoint(\n",
        "                    '/content/drive/My Drive/MOA/Models/Model_NS_Seed_'+str(seed)+'_fold_'+str(fold)+'.h5',\n",
        "                    save_best_only=True)\n",
        "                \n",
        "                print('\\n----------------Non-scored-------------------\\n')\n",
        "\n",
        "                mod_ns = model.fit(x_train, y_train_ns, validation_data=(x_test,y_test_ns),\n",
        "                                callbacks=[lr_scheduler,early_stopping,checkpoint_ns],\n",
        "                                batch_size = batch_size, epochs=epochs)\n",
        "                model_hist.append(mod_ns)\n",
        "                model.load_weights('/content/drive/My Drive/MOA/Models/Model_NS_Seed_'+str(seed)+'_fold_'+str(fold)+'.h5')\n",
        "\n",
        "                for i in range(len(model2.layers)-1):\n",
        "                    model2.layers[i].set_weights(model.layers[i].get_weights())\n",
        "\n",
        "\n",
        "            print('\\n----------------Scored-------------------\\n')\n",
        "            # train on scored targets\n",
        "            mod = model2.fit(x_train, y_train, validation_data=(x_test,y_test),\n",
        "                            callbacks=[lr_scheduler,early_stopping,checkpoint],\n",
        "                            batch_size = batch_size, epochs=epochs)\n",
        "            \n",
        "            model_hist.append(mod)\n",
        "            # model.save('./Model_Seed_'+str(seed)+'_fold_'+str(fold)+'.h5')\n",
        "\n",
        "            model2.load_weights('/content/drive/My Drive/MOA/Models/Model_Seed_'+str(seed)+'_fold_'+str(fold)+'.h5')\n",
        "            # out of fold prediction for current fold\n",
        "            oof_pred = model2.predict(x_test)\n",
        "            # out of fold loss for current fold\n",
        "            current_oof_loss = logloss(tf.constant(y_test,dtype=tf.float32),\n",
        "                                tf.constant(oof_pred,dtype=tf.float32))\n",
        "            tf.print(current_oof_loss)\n",
        "            oof_loss += current_oof_loss\n",
        "\n",
        "            # predict on test set with current model\n",
        "            y_pred += model2.predict(test_trans)\n",
        "\n",
        "    # average results from all models\n",
        "    oof_loss = oof_loss/(k*num_seeds)\n",
        "    y_pred = y_pred / (k*num_seeds)\n",
        "\n",
        "    tf.print('\\noof loss after '+str(len(seeds))+' seeds of '+str(k)+'-fold CV is: ',oof_loss)\n",
        "\n",
        "    test_pred = submit.copy()\n",
        "    y_cols = submit.columns[1:]\n",
        "    # clip the predictions to improve loss\n",
        "    test_pred.iloc[:,1:] = np.clip(y_pred, c_min, c_max)\n",
        "    # set control treatment prediction results to zero\n",
        "    test_pred.loc[test_trans['cp_type']==0, y_cols] = 0\n",
        "\n",
        "    return(test_pred)\n"
      ],
      "execution_count": 146,
      "outputs": []
    },
    {
      "cell_type": "code",
      "metadata": {
        "id": "GGJwsuyq-YjE"
      },
      "source": [
        "def logloss(y_true, y_pred):\n",
        "    y_pred = tf.clip_by_value(y_pred,c_min,c_max)\n",
        "    return (-backend.mean(y_true*backend.log(y_pred) + (1-y_true)*backend.log(1-y_pred)))\n"
      ],
      "execution_count": 147,
      "outputs": []
    },
    {
      "cell_type": "code",
      "metadata": {
        "id": "jr-FkBRpYqhu"
      },
      "source": [
        "def multi_log_loss(y_true, y_pred):\n",
        "    losses = []\n",
        "    for col in y_true.columns:\n",
        "        losses.append(log_loss(y_true.loc[:, col], y_pred.loc[:, col]))\n",
        "    return np.mean(losses)"
      ],
      "execution_count": 148,
      "outputs": []
    },
    {
      "cell_type": "code",
      "metadata": {
        "id": "VBuXs4tZfIq1"
      },
      "source": [
        "test_pred = training(train_x_trans,train_y,train_y_ns,k=5,batch_size=128,epochs=50, num_seeds=1, use_nonscored=True)"
      ],
      "execution_count": null,
      "outputs": []
    },
    {
      "cell_type": "code",
      "metadata": {
        "id": "eFSUdyhidCMT"
      },
      "source": [
        "test_pred.head(3)"
      ],
      "execution_count": null,
      "outputs": []
    },
    {
      "cell_type": "code",
      "metadata": {
        "id": "zFOwDl54Y7-X"
      },
      "source": [
        "test_pred.to_csv('/content/drive/My Drive/MOA/Submission/submission.csv', index=False)"
      ],
      "execution_count": 91,
      "outputs": []
    },
    {
      "cell_type": "code",
      "metadata": {
        "id": "8EsSVWw3qJ9R"
      },
      "source": [
        ""
      ],
      "execution_count": null,
      "outputs": []
    }
  ]
}