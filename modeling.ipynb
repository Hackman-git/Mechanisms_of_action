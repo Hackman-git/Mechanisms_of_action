{
  "nbformat": 4,
  "nbformat_minor": 0,
  "metadata": {
    "colab": {
      "name": "modeling",
      "provenance": [],
      "collapsed_sections": [],
      "toc_visible": true,
      "mount_file_id": "1XkeMw32q6bxd-3PWK3DiNnd3lhtsWuQf",
      "authorship_tag": "ABX9TyMXSz5IkdYRBqcVoIXbOhXS",
      "include_colab_link": true
    },
    "kernelspec": {
      "name": "python3",
      "display_name": "Python 3"
    },
    "accelerator": "GPU"
  },
  "cells": [
    {
      "cell_type": "markdown",
      "metadata": {
        "id": "view-in-github",
        "colab_type": "text"
      },
      "source": [
        "<a href=\"https://colab.research.google.com/github/Hackman-git/Mechanisms_of_action/blob/master/modeling.ipynb\" target=\"_parent\"><img src=\"https://colab.research.google.com/assets/colab-badge.svg\" alt=\"Open In Colab\"/></a>"
      ]
    },
    {
      "cell_type": "markdown",
      "metadata": {
        "id": "EcP_g8iptKNQ"
      },
      "source": [
        "What has been tried so far:\n",
        "\n",
        "*   Scaling numeric features (improved loss)\n",
        "*   Label smoothing (improved loss)\n",
        "*   Clipping (improved loss)\n",
        "*   Learning rate selection (improved loss)\n",
        "*   Batch size selection (128 seems best)\n",
        "*   Model architectures (3 wide layers seem best so far)\n",
        "*   Transfer learning with non_scored targets (didn't improve loss)\n",
        "*   Upsampling with multi-label SMOTE (didn't improve loss)\n",
        "*   Feature selection (variance thresholding)\n",
        "*   Dimensionality reduction (PCA)\n",
        "\n",
        "To explore:\n",
        "*   Dealing with imbalance (MLSMOTE didn't help)\n",
        "*   Deeper nets\n",
        "*   Ensembles\n",
        "\n",
        "\n",
        "\n",
        "\n"
      ]
    },
    {
      "cell_type": "code",
      "metadata": {
        "id": "RvINK1m2A3HL"
      },
      "source": [
        "import pandas as pd\n",
        "import numpy as np\n",
        "import matplotlib.pyplot as plt\n",
        "import seaborn as sns\n",
        "import tensorflow as tf\n",
        "import random\n",
        "import tensorflow_addons as tfa\n",
        "from tensorflow import keras\n",
        "from keras import backend\n",
        "from keras.layers import Dense, BatchNormalization, Dropout\n",
        "from sklearn.model_selection import KFold\n",
        "from sklearn.metrics import log_loss\n",
        "from sklearn.preprocessing import OneHotEncoder, StandardScaler\n",
        "from sklearn.neighbors import NearestNeighbors\n",
        "from sklearn.utils import class_weight\n",
        "from sklearn.decomposition import PCA\n",
        "from sklearn.feature_selection import VarianceThreshold"
      ],
      "execution_count": 1,
      "outputs": []
    },
    {
      "cell_type": "code",
      "metadata": {
        "id": "Iy0_7tKmA9nZ"
      },
      "source": [
        "train_x = pd.read_csv('/content/drive/My Drive/MOA/Data/train_features.csv')\n",
        "train_y = pd.read_csv(\"/content/drive/My Drive/MOA/Data/train_targets_scored.csv\")\n",
        "train_y_ns = pd.read_csv(\"/content/drive/My Drive/MOA/Data/train_targets_nonscored.csv\")\n",
        "test = pd.read_csv(\"/content/drive/My Drive/MOA/Data/test_features.csv\")\n",
        "submit = pd.read_csv(\"/content/drive/My Drive/MOA/Data/sample_submission.csv\")"
      ],
      "execution_count": 2,
      "outputs": []
    },
    {
      "cell_type": "code",
      "metadata": {
        "id": "nBxRk1B0iUZ4",
        "colab": {
          "base_uri": "https://localhost:8080/"
        },
        "outputId": "5c5c4b4a-1634-47e5-cc57-5a854d99ea69"
      },
      "source": [
        "train_x.shape, train_y.shape, train_y_ns.shape"
      ],
      "execution_count": 3,
      "outputs": [
        {
          "output_type": "execute_result",
          "data": {
            "text/plain": [
              "((23814, 876), (23814, 207), (23814, 403))"
            ]
          },
          "metadata": {
            "tags": []
          },
          "execution_count": 3
        }
      ]
    },
    {
      "cell_type": "markdown",
      "metadata": {
        "id": "w9fSKhUpbKm2"
      },
      "source": [
        "Preprocessing steps"
      ]
    },
    {
      "cell_type": "code",
      "metadata": {
        "id": "6Gd7OFPPqzIJ",
        "colab": {
          "base_uri": "https://localhost:8080/"
        },
        "outputId": "9ff10a50-1af1-4b62-b1ca-98bcb2795576"
      },
      "source": [
        "\n",
        "# map cp_type to binary\n",
        "train_x.cp_type = train_x.cp_type.map({'trt_cp': 1, 'ctl_vehicle': 0})\n",
        "test.cp_type = test.cp_type.map({'trt_cp': 1, 'ctl_vehicle': 0})\n",
        "\n",
        "# we don't need ctl_vehicle\n",
        "train_y = train_y.loc[train_x['cp_type']==1].reset_index(drop=True)\n",
        "train_y_ns = train_y_ns.loc[train_x['cp_type']==1].reset_index(drop=True)\n",
        "train_x = train_x.loc[train_x['cp_type']==1].reset_index(drop=True)\n",
        "\n",
        "cols = train_x.columns\n",
        "cell_cols = [col for col in cols if col.startswith(\"c-\")]\n",
        "gene_cols = [col for col in cols if col.startswith('g-')]\n",
        "\n",
        "print('num of cell viability features: ', len(cell_cols))\n",
        "print('num of gene features: ', len(gene_cols))"
      ],
      "execution_count": 4,
      "outputs": [
        {
          "output_type": "stream",
          "text": [
            "num of cell viability features:  100\n",
            "num of gene features:  772\n"
          ],
          "name": "stdout"
        }
      ]
    },
    {
      "cell_type": "code",
      "metadata": {
        "id": "xzOJjMwXbT7a"
      },
      "source": [
        "# numeric cols\n",
        "num = ['cp_time'] + cell_cols + gene_cols\n",
        "rem = ['cp_type']\n",
        "train_x_num = train_x[num]\n",
        "\n",
        "# categorical cols\n",
        "cat = ['cp_dose']\n",
        "train_x_cat = train_x[cat]\n",
        "\n",
        "# one-hot encoding\n",
        "oneHotEnc = OneHotEncoder(handle_unknown='ignore', sparse=False)\n",
        "fit = oneHotEnc.fit_transform(train_x_cat)\n",
        "train_x_oneH = pd.DataFrame(fit, columns=['dose_1', 'dose_2'])\n",
        "fit_ = oneHotEnc.transform(test[cat])\n",
        "test_oneH = pd.DataFrame(fit_, columns=['dose_1', 'dose_2'])\n",
        "\n",
        "# scaling numeric features\n",
        "scaler = StandardScaler()\n",
        "train_x_num_tr = scaler.fit_transform(train_x_num)\n",
        "train_x_num_tr = pd.DataFrame(train_x_num_tr, columns=num)\n",
        "\n",
        "test_num_tr = scaler.transform(test[num])\n",
        "test_num_tr = pd.DataFrame(test_num_tr, columns=num)\n",
        "\n",
        "# merging all transformed columns\n",
        "train_x_trans = pd.concat([train_x[['cp_type']].reset_index(drop=True),\n",
        "                        train_x_oneH.reset_index(drop=True)], axis=1)\n",
        "train_x_trans = pd.concat([train_x_trans.reset_index(drop=True),\n",
        "                        train_x_num_tr.reset_index(drop=True)], axis=1)\n",
        "test_trans = pd.concat([test[['cp_type']].reset_index(drop=True),\n",
        "                        test_oneH.reset_index(drop=True)], axis=1)\n",
        "test_trans = pd.concat([test_trans.reset_index(drop=True),\n",
        "                        test_num_tr.reset_index(drop=True)], axis=1)\n",
        "\n",
        "# dropping sig_id (not a feature)\n",
        "train_y.drop(columns=['sig_id'], inplace=True)\n",
        "train_y_ns.drop(columns=['sig_id'], inplace=True)"
      ],
      "execution_count": 5,
      "outputs": []
    },
    {
      "cell_type": "code",
      "metadata": {
        "id": "k9dEZyCXYq0g",
        "colab": {
          "base_uri": "https://localhost:8080/"
        },
        "outputId": "feb6c796-5f4d-463c-bb12-26a39a0cc05c"
      },
      "source": [
        "train_x_trans.shape, train_y.shape"
      ],
      "execution_count": 6,
      "outputs": [
        {
          "output_type": "execute_result",
          "data": {
            "text/plain": [
              "((21948, 876), (21948, 206))"
            ]
          },
          "metadata": {
            "tags": []
          },
          "execution_count": 6
        }
      ]
    },
    {
      "cell_type": "code",
      "metadata": {
        "colab": {
          "base_uri": "https://localhost:8080/",
          "height": 157
        },
        "id": "Oo-u9mjda7lm",
        "outputId": "ef6ae4d6-af22-4d29-85c6-8d349328883d"
      },
      "source": [
        "train_x_trans.head(2)"
      ],
      "execution_count": 7,
      "outputs": [
        {
          "output_type": "execute_result",
          "data": {
            "text/html": [
              "<div>\n",
              "<style scoped>\n",
              "    .dataframe tbody tr th:only-of-type {\n",
              "        vertical-align: middle;\n",
              "    }\n",
              "\n",
              "    .dataframe tbody tr th {\n",
              "        vertical-align: top;\n",
              "    }\n",
              "\n",
              "    .dataframe thead th {\n",
              "        text-align: right;\n",
              "    }\n",
              "</style>\n",
              "<table border=\"1\" class=\"dataframe\">\n",
              "  <thead>\n",
              "    <tr style=\"text-align: right;\">\n",
              "      <th></th>\n",
              "      <th>cp_type</th>\n",
              "      <th>dose_1</th>\n",
              "      <th>dose_2</th>\n",
              "      <th>cp_time</th>\n",
              "      <th>c-0</th>\n",
              "      <th>c-1</th>\n",
              "      <th>c-2</th>\n",
              "      <th>c-3</th>\n",
              "      <th>c-4</th>\n",
              "      <th>c-5</th>\n",
              "      <th>c-6</th>\n",
              "      <th>c-7</th>\n",
              "      <th>c-8</th>\n",
              "      <th>c-9</th>\n",
              "      <th>c-10</th>\n",
              "      <th>c-11</th>\n",
              "      <th>c-12</th>\n",
              "      <th>c-13</th>\n",
              "      <th>c-14</th>\n",
              "      <th>c-15</th>\n",
              "      <th>c-16</th>\n",
              "      <th>c-17</th>\n",
              "      <th>c-18</th>\n",
              "      <th>c-19</th>\n",
              "      <th>c-20</th>\n",
              "      <th>c-21</th>\n",
              "      <th>c-22</th>\n",
              "      <th>c-23</th>\n",
              "      <th>c-24</th>\n",
              "      <th>c-25</th>\n",
              "      <th>c-26</th>\n",
              "      <th>c-27</th>\n",
              "      <th>c-28</th>\n",
              "      <th>c-29</th>\n",
              "      <th>c-30</th>\n",
              "      <th>c-31</th>\n",
              "      <th>c-32</th>\n",
              "      <th>c-33</th>\n",
              "      <th>c-34</th>\n",
              "      <th>c-35</th>\n",
              "      <th>...</th>\n",
              "      <th>g-732</th>\n",
              "      <th>g-733</th>\n",
              "      <th>g-734</th>\n",
              "      <th>g-735</th>\n",
              "      <th>g-736</th>\n",
              "      <th>g-737</th>\n",
              "      <th>g-738</th>\n",
              "      <th>g-739</th>\n",
              "      <th>g-740</th>\n",
              "      <th>g-741</th>\n",
              "      <th>g-742</th>\n",
              "      <th>g-743</th>\n",
              "      <th>g-744</th>\n",
              "      <th>g-745</th>\n",
              "      <th>g-746</th>\n",
              "      <th>g-747</th>\n",
              "      <th>g-748</th>\n",
              "      <th>g-749</th>\n",
              "      <th>g-750</th>\n",
              "      <th>g-751</th>\n",
              "      <th>g-752</th>\n",
              "      <th>g-753</th>\n",
              "      <th>g-754</th>\n",
              "      <th>g-755</th>\n",
              "      <th>g-756</th>\n",
              "      <th>g-757</th>\n",
              "      <th>g-758</th>\n",
              "      <th>g-759</th>\n",
              "      <th>g-760</th>\n",
              "      <th>g-761</th>\n",
              "      <th>g-762</th>\n",
              "      <th>g-763</th>\n",
              "      <th>g-764</th>\n",
              "      <th>g-765</th>\n",
              "      <th>g-766</th>\n",
              "      <th>g-767</th>\n",
              "      <th>g-768</th>\n",
              "      <th>g-769</th>\n",
              "      <th>g-770</th>\n",
              "      <th>g-771</th>\n",
              "    </tr>\n",
              "  </thead>\n",
              "  <tbody>\n",
              "    <tr>\n",
              "      <th>0</th>\n",
              "      <td>1</td>\n",
              "      <td>1.0</td>\n",
              "      <td>0.0</td>\n",
              "      <td>-1.237682</td>\n",
              "      <td>0.185863</td>\n",
              "      <td>0.299556</td>\n",
              "      <td>0.584655</td>\n",
              "      <td>0.508021</td>\n",
              "      <td>0.452127</td>\n",
              "      <td>-0.093050</td>\n",
              "      <td>0.400912</td>\n",
              "      <td>0.491091</td>\n",
              "      <td>0.082576</td>\n",
              "      <td>0.496545</td>\n",
              "      <td>0.683094</td>\n",
              "      <td>0.575527</td>\n",
              "      <td>0.733252</td>\n",
              "      <td>0.606676</td>\n",
              "      <td>0.150916</td>\n",
              "      <td>0.420044</td>\n",
              "      <td>0.610762</td>\n",
              "      <td>0.121331</td>\n",
              "      <td>0.122997</td>\n",
              "      <td>0.626120</td>\n",
              "      <td>0.800853</td>\n",
              "      <td>0.433343</td>\n",
              "      <td>0.012916</td>\n",
              "      <td>0.075132</td>\n",
              "      <td>0.115101</td>\n",
              "      <td>0.519260</td>\n",
              "      <td>0.35307</td>\n",
              "      <td>0.700635</td>\n",
              "      <td>0.612104</td>\n",
              "      <td>0.599306</td>\n",
              "      <td>0.453757</td>\n",
              "      <td>0.151243</td>\n",
              "      <td>0.410313</td>\n",
              "      <td>0.428815</td>\n",
              "      <td>0.503454</td>\n",
              "      <td>0.133187</td>\n",
              "      <td>...</td>\n",
              "      <td>-1.080000</td>\n",
              "      <td>-0.406928</td>\n",
              "      <td>0.662550</td>\n",
              "      <td>-0.470207</td>\n",
              "      <td>0.154020</td>\n",
              "      <td>-0.188836</td>\n",
              "      <td>0.427979</td>\n",
              "      <td>0.061997</td>\n",
              "      <td>0.353517</td>\n",
              "      <td>-0.203396</td>\n",
              "      <td>1.168142</td>\n",
              "      <td>1.120206</td>\n",
              "      <td>-0.578124</td>\n",
              "      <td>-0.10838</td>\n",
              "      <td>1.228400</td>\n",
              "      <td>-0.980524</td>\n",
              "      <td>0.208762</td>\n",
              "      <td>0.023364</td>\n",
              "      <td>-0.445551</td>\n",
              "      <td>-0.130299</td>\n",
              "      <td>-0.543136</td>\n",
              "      <td>1.211372</td>\n",
              "      <td>-0.168809</td>\n",
              "      <td>-0.978152</td>\n",
              "      <td>-0.262421</td>\n",
              "      <td>-0.743560</td>\n",
              "      <td>-0.328860</td>\n",
              "      <td>0.204498</td>\n",
              "      <td>0.999794</td>\n",
              "      <td>0.410226</td>\n",
              "      <td>-0.664507</td>\n",
              "      <td>-0.264137</td>\n",
              "      <td>0.624743</td>\n",
              "      <td>-0.014495</td>\n",
              "      <td>0.894254</td>\n",
              "      <td>-0.441400</td>\n",
              "      <td>0.139851</td>\n",
              "      <td>1.410500</td>\n",
              "      <td>0.407781</td>\n",
              "      <td>-0.106759</td>\n",
              "    </tr>\n",
              "    <tr>\n",
              "      <th>1</th>\n",
              "      <td>1</td>\n",
              "      <td>1.0</td>\n",
              "      <td>0.0</td>\n",
              "      <td>1.236104</td>\n",
              "      <td>0.270276</td>\n",
              "      <td>0.378936</td>\n",
              "      <td>0.389892</td>\n",
              "      <td>0.740972</td>\n",
              "      <td>0.427375</td>\n",
              "      <td>0.547195</td>\n",
              "      <td>0.398615</td>\n",
              "      <td>1.138755</td>\n",
              "      <td>0.436894</td>\n",
              "      <td>0.695134</td>\n",
              "      <td>0.622257</td>\n",
              "      <td>0.349948</td>\n",
              "      <td>0.755417</td>\n",
              "      <td>0.375024</td>\n",
              "      <td>0.339412</td>\n",
              "      <td>0.591750</td>\n",
              "      <td>-0.032955</td>\n",
              "      <td>0.145779</td>\n",
              "      <td>0.464404</td>\n",
              "      <td>0.288794</td>\n",
              "      <td>0.723007</td>\n",
              "      <td>0.268803</td>\n",
              "      <td>0.521626</td>\n",
              "      <td>0.199981</td>\n",
              "      <td>0.255687</td>\n",
              "      <td>0.343897</td>\n",
              "      <td>0.56935</td>\n",
              "      <td>0.429033</td>\n",
              "      <td>0.698217</td>\n",
              "      <td>0.241424</td>\n",
              "      <td>0.553478</td>\n",
              "      <td>0.453691</td>\n",
              "      <td>0.304814</td>\n",
              "      <td>0.433748</td>\n",
              "      <td>0.636668</td>\n",
              "      <td>0.590326</td>\n",
              "      <td>...</td>\n",
              "      <td>2.595002</td>\n",
              "      <td>0.215975</td>\n",
              "      <td>-0.201148</td>\n",
              "      <td>0.371009</td>\n",
              "      <td>-0.332716</td>\n",
              "      <td>-0.118738</td>\n",
              "      <td>0.875297</td>\n",
              "      <td>-0.374516</td>\n",
              "      <td>-0.379582</td>\n",
              "      <td>-0.181888</td>\n",
              "      <td>-0.690119</td>\n",
              "      <td>0.066303</td>\n",
              "      <td>0.127644</td>\n",
              "      <td>0.18220</td>\n",
              "      <td>-1.439416</td>\n",
              "      <td>-0.000402</td>\n",
              "      <td>0.278691</td>\n",
              "      <td>0.145143</td>\n",
              "      <td>-0.591795</td>\n",
              "      <td>-0.123478</td>\n",
              "      <td>0.244504</td>\n",
              "      <td>-1.444981</td>\n",
              "      <td>-0.455061</td>\n",
              "      <td>0.330476</td>\n",
              "      <td>-0.758251</td>\n",
              "      <td>0.107354</td>\n",
              "      <td>-0.190331</td>\n",
              "      <td>0.053135</td>\n",
              "      <td>0.308824</td>\n",
              "      <td>0.802095</td>\n",
              "      <td>-0.690314</td>\n",
              "      <td>0.012612</td>\n",
              "      <td>-0.535728</td>\n",
              "      <td>0.179280</td>\n",
              "      <td>-0.391350</td>\n",
              "      <td>-0.054182</td>\n",
              "      <td>-0.341499</td>\n",
              "      <td>-0.181268</td>\n",
              "      <td>-0.055649</td>\n",
              "      <td>-0.279529</td>\n",
              "    </tr>\n",
              "  </tbody>\n",
              "</table>\n",
              "<p>2 rows × 876 columns</p>\n",
              "</div>"
            ],
            "text/plain": [
              "   cp_type  dose_1  dose_2   cp_time  ...     g-768     g-769     g-770     g-771\n",
              "0        1     1.0     0.0 -1.237682  ...  0.139851  1.410500  0.407781 -0.106759\n",
              "1        1     1.0     0.0  1.236104  ... -0.341499 -0.181268 -0.055649 -0.279529\n",
              "\n",
              "[2 rows x 876 columns]"
            ]
          },
          "metadata": {
            "tags": []
          },
          "execution_count": 7
        }
      ]
    },
    {
      "cell_type": "code",
      "metadata": {
        "colab": {
          "base_uri": "https://localhost:8080/",
          "height": 175
        },
        "id": "b75b9eYqcc6M",
        "outputId": "118dabde-cba2-4727-a516-7c2c2818e3a6"
      },
      "source": [
        "train_y.head(2)"
      ],
      "execution_count": 8,
      "outputs": [
        {
          "output_type": "execute_result",
          "data": {
            "text/html": [
              "<div>\n",
              "<style scoped>\n",
              "    .dataframe tbody tr th:only-of-type {\n",
              "        vertical-align: middle;\n",
              "    }\n",
              "\n",
              "    .dataframe tbody tr th {\n",
              "        vertical-align: top;\n",
              "    }\n",
              "\n",
              "    .dataframe thead th {\n",
              "        text-align: right;\n",
              "    }\n",
              "</style>\n",
              "<table border=\"1\" class=\"dataframe\">\n",
              "  <thead>\n",
              "    <tr style=\"text-align: right;\">\n",
              "      <th></th>\n",
              "      <th>5-alpha_reductase_inhibitor</th>\n",
              "      <th>11-beta-hsd1_inhibitor</th>\n",
              "      <th>acat_inhibitor</th>\n",
              "      <th>acetylcholine_receptor_agonist</th>\n",
              "      <th>acetylcholine_receptor_antagonist</th>\n",
              "      <th>acetylcholinesterase_inhibitor</th>\n",
              "      <th>adenosine_receptor_agonist</th>\n",
              "      <th>adenosine_receptor_antagonist</th>\n",
              "      <th>adenylyl_cyclase_activator</th>\n",
              "      <th>adrenergic_receptor_agonist</th>\n",
              "      <th>adrenergic_receptor_antagonist</th>\n",
              "      <th>akt_inhibitor</th>\n",
              "      <th>aldehyde_dehydrogenase_inhibitor</th>\n",
              "      <th>alk_inhibitor</th>\n",
              "      <th>ampk_activator</th>\n",
              "      <th>analgesic</th>\n",
              "      <th>androgen_receptor_agonist</th>\n",
              "      <th>androgen_receptor_antagonist</th>\n",
              "      <th>anesthetic_-_local</th>\n",
              "      <th>angiogenesis_inhibitor</th>\n",
              "      <th>angiotensin_receptor_antagonist</th>\n",
              "      <th>anti-inflammatory</th>\n",
              "      <th>antiarrhythmic</th>\n",
              "      <th>antibiotic</th>\n",
              "      <th>anticonvulsant</th>\n",
              "      <th>antifungal</th>\n",
              "      <th>antihistamine</th>\n",
              "      <th>antimalarial</th>\n",
              "      <th>antioxidant</th>\n",
              "      <th>antiprotozoal</th>\n",
              "      <th>antiviral</th>\n",
              "      <th>apoptosis_stimulant</th>\n",
              "      <th>aromatase_inhibitor</th>\n",
              "      <th>atm_kinase_inhibitor</th>\n",
              "      <th>atp-sensitive_potassium_channel_antagonist</th>\n",
              "      <th>atp_synthase_inhibitor</th>\n",
              "      <th>atpase_inhibitor</th>\n",
              "      <th>atr_kinase_inhibitor</th>\n",
              "      <th>aurora_kinase_inhibitor</th>\n",
              "      <th>autotaxin_inhibitor</th>\n",
              "      <th>...</th>\n",
              "      <th>protein_synthesis_inhibitor</th>\n",
              "      <th>protein_tyrosine_kinase_inhibitor</th>\n",
              "      <th>radiopaque_medium</th>\n",
              "      <th>raf_inhibitor</th>\n",
              "      <th>ras_gtpase_inhibitor</th>\n",
              "      <th>retinoid_receptor_agonist</th>\n",
              "      <th>retinoid_receptor_antagonist</th>\n",
              "      <th>rho_associated_kinase_inhibitor</th>\n",
              "      <th>ribonucleoside_reductase_inhibitor</th>\n",
              "      <th>rna_polymerase_inhibitor</th>\n",
              "      <th>serotonin_receptor_agonist</th>\n",
              "      <th>serotonin_receptor_antagonist</th>\n",
              "      <th>serotonin_reuptake_inhibitor</th>\n",
              "      <th>sigma_receptor_agonist</th>\n",
              "      <th>sigma_receptor_antagonist</th>\n",
              "      <th>smoothened_receptor_antagonist</th>\n",
              "      <th>sodium_channel_inhibitor</th>\n",
              "      <th>sphingosine_receptor_agonist</th>\n",
              "      <th>src_inhibitor</th>\n",
              "      <th>steroid</th>\n",
              "      <th>syk_inhibitor</th>\n",
              "      <th>tachykinin_antagonist</th>\n",
              "      <th>tgf-beta_receptor_inhibitor</th>\n",
              "      <th>thrombin_inhibitor</th>\n",
              "      <th>thymidylate_synthase_inhibitor</th>\n",
              "      <th>tlr_agonist</th>\n",
              "      <th>tlr_antagonist</th>\n",
              "      <th>tnf_inhibitor</th>\n",
              "      <th>topoisomerase_inhibitor</th>\n",
              "      <th>transient_receptor_potential_channel_antagonist</th>\n",
              "      <th>tropomyosin_receptor_kinase_inhibitor</th>\n",
              "      <th>trpv_agonist</th>\n",
              "      <th>trpv_antagonist</th>\n",
              "      <th>tubulin_inhibitor</th>\n",
              "      <th>tyrosine_kinase_inhibitor</th>\n",
              "      <th>ubiquitin_specific_protease_inhibitor</th>\n",
              "      <th>vegfr_inhibitor</th>\n",
              "      <th>vitamin_b</th>\n",
              "      <th>vitamin_d_receptor_agonist</th>\n",
              "      <th>wnt_inhibitor</th>\n",
              "    </tr>\n",
              "  </thead>\n",
              "  <tbody>\n",
              "    <tr>\n",
              "      <th>0</th>\n",
              "      <td>0</td>\n",
              "      <td>0</td>\n",
              "      <td>0</td>\n",
              "      <td>0</td>\n",
              "      <td>0</td>\n",
              "      <td>0</td>\n",
              "      <td>0</td>\n",
              "      <td>0</td>\n",
              "      <td>0</td>\n",
              "      <td>0</td>\n",
              "      <td>0</td>\n",
              "      <td>0</td>\n",
              "      <td>0</td>\n",
              "      <td>0</td>\n",
              "      <td>0</td>\n",
              "      <td>0</td>\n",
              "      <td>0</td>\n",
              "      <td>0</td>\n",
              "      <td>0</td>\n",
              "      <td>0</td>\n",
              "      <td>0</td>\n",
              "      <td>0</td>\n",
              "      <td>0</td>\n",
              "      <td>0</td>\n",
              "      <td>0</td>\n",
              "      <td>0</td>\n",
              "      <td>0</td>\n",
              "      <td>0</td>\n",
              "      <td>0</td>\n",
              "      <td>0</td>\n",
              "      <td>0</td>\n",
              "      <td>0</td>\n",
              "      <td>0</td>\n",
              "      <td>0</td>\n",
              "      <td>0</td>\n",
              "      <td>0</td>\n",
              "      <td>0</td>\n",
              "      <td>0</td>\n",
              "      <td>0</td>\n",
              "      <td>0</td>\n",
              "      <td>...</td>\n",
              "      <td>0</td>\n",
              "      <td>0</td>\n",
              "      <td>0</td>\n",
              "      <td>0</td>\n",
              "      <td>0</td>\n",
              "      <td>0</td>\n",
              "      <td>0</td>\n",
              "      <td>0</td>\n",
              "      <td>0</td>\n",
              "      <td>0</td>\n",
              "      <td>0</td>\n",
              "      <td>0</td>\n",
              "      <td>0</td>\n",
              "      <td>0</td>\n",
              "      <td>0</td>\n",
              "      <td>0</td>\n",
              "      <td>0</td>\n",
              "      <td>0</td>\n",
              "      <td>0</td>\n",
              "      <td>0</td>\n",
              "      <td>0</td>\n",
              "      <td>0</td>\n",
              "      <td>0</td>\n",
              "      <td>0</td>\n",
              "      <td>0</td>\n",
              "      <td>0</td>\n",
              "      <td>0</td>\n",
              "      <td>0</td>\n",
              "      <td>0</td>\n",
              "      <td>0</td>\n",
              "      <td>0</td>\n",
              "      <td>0</td>\n",
              "      <td>0</td>\n",
              "      <td>0</td>\n",
              "      <td>0</td>\n",
              "      <td>0</td>\n",
              "      <td>0</td>\n",
              "      <td>0</td>\n",
              "      <td>0</td>\n",
              "      <td>0</td>\n",
              "    </tr>\n",
              "    <tr>\n",
              "      <th>1</th>\n",
              "      <td>0</td>\n",
              "      <td>0</td>\n",
              "      <td>0</td>\n",
              "      <td>0</td>\n",
              "      <td>0</td>\n",
              "      <td>0</td>\n",
              "      <td>0</td>\n",
              "      <td>0</td>\n",
              "      <td>0</td>\n",
              "      <td>0</td>\n",
              "      <td>0</td>\n",
              "      <td>0</td>\n",
              "      <td>0</td>\n",
              "      <td>0</td>\n",
              "      <td>0</td>\n",
              "      <td>0</td>\n",
              "      <td>0</td>\n",
              "      <td>0</td>\n",
              "      <td>0</td>\n",
              "      <td>0</td>\n",
              "      <td>0</td>\n",
              "      <td>0</td>\n",
              "      <td>0</td>\n",
              "      <td>0</td>\n",
              "      <td>0</td>\n",
              "      <td>0</td>\n",
              "      <td>0</td>\n",
              "      <td>0</td>\n",
              "      <td>0</td>\n",
              "      <td>0</td>\n",
              "      <td>0</td>\n",
              "      <td>0</td>\n",
              "      <td>0</td>\n",
              "      <td>0</td>\n",
              "      <td>0</td>\n",
              "      <td>0</td>\n",
              "      <td>0</td>\n",
              "      <td>0</td>\n",
              "      <td>0</td>\n",
              "      <td>0</td>\n",
              "      <td>...</td>\n",
              "      <td>0</td>\n",
              "      <td>0</td>\n",
              "      <td>0</td>\n",
              "      <td>0</td>\n",
              "      <td>0</td>\n",
              "      <td>0</td>\n",
              "      <td>0</td>\n",
              "      <td>0</td>\n",
              "      <td>0</td>\n",
              "      <td>0</td>\n",
              "      <td>0</td>\n",
              "      <td>0</td>\n",
              "      <td>0</td>\n",
              "      <td>0</td>\n",
              "      <td>0</td>\n",
              "      <td>0</td>\n",
              "      <td>0</td>\n",
              "      <td>0</td>\n",
              "      <td>0</td>\n",
              "      <td>0</td>\n",
              "      <td>0</td>\n",
              "      <td>0</td>\n",
              "      <td>0</td>\n",
              "      <td>0</td>\n",
              "      <td>0</td>\n",
              "      <td>0</td>\n",
              "      <td>0</td>\n",
              "      <td>0</td>\n",
              "      <td>0</td>\n",
              "      <td>0</td>\n",
              "      <td>0</td>\n",
              "      <td>0</td>\n",
              "      <td>0</td>\n",
              "      <td>0</td>\n",
              "      <td>0</td>\n",
              "      <td>0</td>\n",
              "      <td>0</td>\n",
              "      <td>0</td>\n",
              "      <td>0</td>\n",
              "      <td>0</td>\n",
              "    </tr>\n",
              "  </tbody>\n",
              "</table>\n",
              "<p>2 rows × 206 columns</p>\n",
              "</div>"
            ],
            "text/plain": [
              "   5-alpha_reductase_inhibitor  ...  wnt_inhibitor\n",
              "0                            0  ...              0\n",
              "1                            0  ...              0\n",
              "\n",
              "[2 rows x 206 columns]"
            ]
          },
          "metadata": {
            "tags": []
          },
          "execution_count": 8
        }
      ]
    },
    {
      "cell_type": "markdown",
      "metadata": {
        "id": "NBL3En1jk1wB"
      },
      "source": [
        "### Feature engineering"
      ]
    },
    {
      "cell_type": "markdown",
      "metadata": {
        "id": "kwmzI0jqtcz9"
      },
      "source": [
        "PCA"
      ]
    },
    {
      "cell_type": "code",
      "metadata": {
        "id": "xhnEIbVEiVIK"
      },
      "source": [
        "# PCA on Cell features (20 comps)\n",
        "\n",
        "train_test_cell = pd.concat([pd.DataFrame(train_x_trans[cell_cols]), pd.DataFrame(test_trans[cell_cols])])\n",
        "pca_df_cell = PCA(n_components=20, random_state=42).fit_transform(train_test_cell)\n",
        "train_pca_cell = pca_df_cell[:train_x_trans.shape[0]]\n",
        "test_pca_cell = pca_df_cell[-test_trans.shape[0]: ]\n",
        "\n",
        "train_pca_cell = pd.DataFrame(train_pca_cell, columns=['pca_cell'+str(i) for i in range(train_pca_cell.shape[1])])\n",
        "test_pca_cell = pd.DataFrame(test_pca_cell, columns=['pca_cell'+str(i) for i in range(test_pca_cell.shape[1])])\n",
        "\n",
        "train_x_pca = pd.concat([train_x_trans, train_pca_cell], axis=1)\n",
        "test_pca = pd.concat([test_trans, test_pca_cell], axis=1)"
      ],
      "execution_count": 9,
      "outputs": []
    },
    {
      "cell_type": "code",
      "metadata": {
        "colab": {
          "base_uri": "https://localhost:8080/"
        },
        "id": "ngOgHcmSaEzj",
        "outputId": "351cdfbd-057c-4a9c-f535-0cc484da0363"
      },
      "source": [
        "print(train_x_pca.shape, test_pca.shape)"
      ],
      "execution_count": 10,
      "outputs": [
        {
          "output_type": "stream",
          "text": [
            "(21948, 896) (3982, 896)\n"
          ],
          "name": "stdout"
        }
      ]
    },
    {
      "cell_type": "code",
      "metadata": {
        "id": "zqIuOnnPqzbW"
      },
      "source": [
        "# PCA on Gene features (100 comps)\n",
        "\n",
        "train_test_gene = pd.concat([pd.DataFrame(train_x_trans[gene_cols]), pd.DataFrame(test_trans[gene_cols])])\n",
        "pca_df_gene = PCA(n_components=100, random_state=42).fit_transform(train_test_gene)\n",
        "train_pca_gene = pca_df_gene[:train_x_trans.shape[0]]\n",
        "test_pca_gene = pca_df_gene[-test_trans.shape[0]: ]\n",
        "\n",
        "train_pca_gene = pd.DataFrame(train_pca_gene, columns=['pca_gene_'+str(i) for i in range(train_pca_gene.shape[1])])\n",
        "test_pca_gene = pd.DataFrame(test_pca_gene, columns=['pca_gene_'+str(i) for i in range(test_pca_gene.shape[1])])\n",
        "\n",
        "train_x_pca = pd.concat([train_x_pca, train_pca_gene], axis=1)\n",
        "test_pca = pd.concat([test_pca, test_pca_gene], axis=1)"
      ],
      "execution_count": 11,
      "outputs": []
    },
    {
      "cell_type": "code",
      "metadata": {
        "colab": {
          "base_uri": "https://localhost:8080/"
        },
        "id": "GOUvzdj9q0CC",
        "outputId": "05f9e385-8959-4f12-85ad-77bdfffff4cb"
      },
      "source": [
        "print(train_x_pca.shape, test_pca.shape)"
      ],
      "execution_count": 12,
      "outputs": [
        {
          "output_type": "stream",
          "text": [
            "(21948, 996) (3982, 996)\n"
          ],
          "name": "stdout"
        }
      ]
    },
    {
      "cell_type": "markdown",
      "metadata": {
        "id": "qxA__DIkteya"
      },
      "source": [
        "Variance Thresholding"
      ]
    },
    {
      "cell_type": "code",
      "metadata": {
        "id": "WlCLQmymq0Fu"
      },
      "source": [
        "var_thresh = VarianceThreshold(threshold=0.5)\n",
        "train_test_vt = pd.concat([train_x_pca, test_pca])"
      ],
      "execution_count": 13,
      "outputs": []
    },
    {
      "cell_type": "code",
      "metadata": {
        "id": "CwqrqeBYqz-f"
      },
      "source": [
        "var_thresh_df = var_thresh.fit_transform(train_test_vt)\n",
        "\n",
        "train_x_vt = var_thresh_df[ : train_x_pca.shape[0]]\n",
        "test_vt = var_thresh_df[-test_pca.shape[0] : ]\n",
        "\n",
        "train_x_vt = pd.concat([train_x_pca, pd.DataFrame(train_x_vt, \\\n",
        "                        columns=['vt_'+str(i) for i in range(train_x_vt.shape[1])])], axis=1)\n",
        "test_vt = pd.concat([test_pca, pd.DataFrame(test_vt, \\\n",
        "                        columns=[['vt_'+str(i) for i in range(test_vt.shape[1])]])], axis=1)\n"
      ],
      "execution_count": 14,
      "outputs": []
    },
    {
      "cell_type": "code",
      "metadata": {
        "colab": {
          "base_uri": "https://localhost:8080/"
        },
        "id": "zA8JWN83z-QJ",
        "outputId": "b3db50f9-19de-4c15-deb4-a96c95e12ef0"
      },
      "source": [
        "train_x_vt.shape, test_vt.shape"
      ],
      "execution_count": 15,
      "outputs": [
        {
          "output_type": "execute_result",
          "data": {
            "text/plain": [
              "((21948, 1973), (3982, 1973))"
            ]
          },
          "metadata": {
            "tags": []
          },
          "execution_count": 15
        }
      ]
    },
    {
      "cell_type": "markdown",
      "metadata": {
        "id": "uPS_3knR1jhi"
      },
      "source": [
        "Final variables"
      ]
    },
    {
      "cell_type": "code",
      "metadata": {
        "id": "wYTHx6B_Yq5-"
      },
      "source": [
        "final_features = train_x_vt.columns\n",
        "train_x_final = train_x_vt\n",
        "train_y_final = train_y\n",
        "test_final = test_vt"
      ],
      "execution_count": 16,
      "outputs": []
    },
    {
      "cell_type": "code",
      "metadata": {
        "id": "c690BVjJYqsn"
      },
      "source": [
        "def model_init(out_layer_size=train_y.shape[1]):\n",
        "    # initializing the model\n",
        "    model = keras.models.Sequential([\n",
        "        Dense(2048, activation='elu', input_shape=(train_x_final.shape[1],), kernel_initializer='he_normal'),\n",
        "        BatchNormalization(),\n",
        "        Dropout(0.4),\n",
        "        Dense(1024, activation='elu',kernel_initializer='he_normal'),\n",
        "        BatchNormalization(),\n",
        "        Dropout(0.4),\n",
        "        Dense(512, activation='elu',kernel_initializer='he_normal'),\n",
        "        BatchNormalization(),\n",
        "        Dropout(0.4),\n",
        "        Dense(out_layer_size, activation='sigmoid')\n",
        "    ])\n",
        "    \n",
        "    # compile model\n",
        "    model.compile(loss=keras.losses.BinaryCrossentropy(label_smoothing=0.001), \n",
        "                  optimizer=keras.optimizers.Adam(learning_rate=0.0005),\n",
        "                  metrics=logloss)\n",
        "    \n",
        "    \n",
        "    return (model)"
      ],
      "execution_count": 17,
      "outputs": []
    },
    {
      "cell_type": "code",
      "metadata": {
        "id": "N_g1-6pnxY8Q"
      },
      "source": [
        "# clipping thresholds\n",
        "c_min = 0.001\n",
        "c_max = 0.999"
      ],
      "execution_count": 18,
      "outputs": []
    },
    {
      "cell_type": "code",
      "metadata": {
        "id": "22_-9fkiI3BG"
      },
      "source": [
        "def training(train_x_trans, train_y, train_y_ns, k=5, batch_size=128, epochs=50, num_seeds=2, use_nonscored=False):\n",
        "    '''\n",
        "    This function trains the neural net on the non-scored targets (if use_nonscored=True) and uses\n",
        "    transfer learning on the scored targets, otherwise it trains only the scored targets.\n",
        "    '''\n",
        "    num_labels = train_y.shape[1]\n",
        "    num_train = train_x_trans.shape[0]\n",
        "    num_features = train_x_trans.shape[1]\n",
        "    num_test = test_final.shape[0]\n",
        "\n",
        "    # initialize a number of seeds\n",
        "    seeds = np.random.randint(0,100,size=num_seeds)\n",
        "    # initialize predictions dataframe\n",
        "    y_pred = np.zeros((num_test, num_labels))\n",
        "    # initialize out of fold loss\n",
        "    oof_loss = tf.constant(0.0)\n",
        "    # store model history\n",
        "    model_hist = []\n",
        "\n",
        "    for seed in seeds:\n",
        "        fold = 1\n",
        "        # stratified split\n",
        "        strat = KFold(k, shuffle=True, random_state=seed)\n",
        "        for fold, (train, test) in enumerate(strat.split(train_x_trans, train_y)):\n",
        "            # subset of data for training and cross-validation\n",
        "            x_train = train_x_trans.values[train]\n",
        "            x_test = train_x_trans.values[test]\n",
        "            y_train = train_y.values[train]\n",
        "            y_train_ns = train_y_ns.values[train]\n",
        "            y_test = train_y.values[test]\n",
        "            y_test_ns = train_y_ns.values[test]\n",
        "\n",
        "            print('\\nSeed '+str(seed)+', fold '+str(fold+1))\n",
        "            \n",
        "            # defining callbacks\n",
        "            lr_scheduler = keras.callbacks.ReduceLROnPlateau(\n",
        "                factor=0.2, patience=4, monitor='val_logloss',mode='min',min_lr=1E-5)\n",
        "            \n",
        "            early_stopping = keras.callbacks.EarlyStopping(\n",
        "                monitor='val_logloss', min_delta=1E-5, patience=6,\n",
        "                mode='min',restore_best_weights=True)\n",
        "            \n",
        "            # save the best model with a checkpoint callback\n",
        "            checkpoint = tf.keras.callbacks.ModelCheckpoint(\n",
        "                    '/content/drive/My Drive/MOA/Models/Model_Seed_'+str(seed)+'_fold_'+str(fold)+'.h5',\n",
        "                    save_best_only=True)\n",
        "            \n",
        "            model2 = model_init()\n",
        "\n",
        "            if use_nonscored:\n",
        "                # train on non-scored targets the use transfer learning\n",
        "                model = model_init(out_layer_size=402)\n",
        "                checkpoint_ns = tf.keras.callbacks.ModelCheckpoint(\n",
        "                    '/content/drive/My Drive/MOA/Models/Model_NS_Seed_'+str(seed)+'_fold_'+str(fold)+'.h5',\n",
        "                    save_best_only=True)\n",
        "                \n",
        "                print('\\n----------------Non-scored-------------------\\n')\n",
        "\n",
        "                mod_ns = model.fit(x_train, y_train_ns, validation_data=(x_test,y_test_ns),\n",
        "                                callbacks=[lr_scheduler,early_stopping,checkpoint_ns],\n",
        "                                batch_size = batch_size, epochs=epochs)\n",
        "                model_hist.append(mod_ns)\n",
        "                model.load_weights('/content/drive/My Drive/MOA/Models/Model_NS_Seed_'+str(seed)+'_fold_'+str(fold)+'.h5')\n",
        "\n",
        "                for i in range(len(model2.layers)-1):\n",
        "                    model2.layers[i].set_weights(model.layers[i].get_weights())\n",
        "\n",
        "\n",
        "            print('\\n----------------Scored-------------------\\n')\n",
        "            # train on scored targets\n",
        "            mod = model2.fit(x_train, y_train, validation_data=(x_test,y_test),\n",
        "                            callbacks=[lr_scheduler,early_stopping,checkpoint],\n",
        "                            batch_size = batch_size, epochs=epochs)\n",
        "            \n",
        "            # plot learning curves\n",
        "            pd.DataFrame(mod.history).plot(figsize=(10,5))\n",
        "            \n",
        "            model_hist.append(mod)\n",
        "            # model.save('./Model_Seed_'+str(seed)+'_fold_'+str(fold)+'.h5')\n",
        "\n",
        "            model2.load_weights('/content/drive/My Drive/MOA/Models/Model_Seed_'+str(seed)+'_fold_'+str(fold)+'.h5')\n",
        "            # out of fold prediction for current fold\n",
        "            oof_pred = model2.predict(x_test)\n",
        "            # out of fold loss for current fold\n",
        "            current_oof_loss = logloss(tf.constant(y_test,dtype=tf.float32),\n",
        "                                tf.constant(oof_pred,dtype=tf.float32))\n",
        "            tf.print(current_oof_loss)\n",
        "            oof_loss += current_oof_loss\n",
        "\n",
        "            # predict on test set with current model\n",
        "            y_pred += model2.predict(test_final)\n",
        "\n",
        "    # average results from all models\n",
        "    oof_loss = oof_loss/(k*num_seeds)\n",
        "    y_pred = y_pred / (k*num_seeds)\n",
        "\n",
        "    tf.print('\\noof loss after '+str(len(seeds))+' seeds of '+str(k)+'-fold CV is: ',oof_loss)\n",
        "\n",
        "    test_pred = submit.copy()\n",
        "    y_cols = submit.columns[1:]\n",
        "    # clip the predictions to improve loss\n",
        "    test_pred.iloc[:,1:] = np.clip(y_pred, c_min, c_max)\n",
        "    # set control treatment prediction results to zero\n",
        "    test_pred.loc[test_final['cp_type']==0, y_cols] = 0\n",
        "\n",
        "    return(test_pred)\n"
      ],
      "execution_count": 19,
      "outputs": []
    },
    {
      "cell_type": "code",
      "metadata": {
        "id": "GGJwsuyq-YjE"
      },
      "source": [
        "def logloss(y_true, y_pred):\n",
        "    y_pred = tf.clip_by_value(y_pred,c_min,c_max)\n",
        "    return (-backend.mean(y_true*backend.log(y_pred) + (1-y_true)*backend.log(1-y_pred)))\n"
      ],
      "execution_count": 20,
      "outputs": []
    },
    {
      "cell_type": "code",
      "metadata": {
        "id": "VBuXs4tZfIq1"
      },
      "source": [
        "test_pred = training(train_x_final,train_y_final,train_y_ns,k=7,batch_size=128,epochs=50, num_seeds=2, use_nonscored=False)"
      ],
      "execution_count": null,
      "outputs": []
    },
    {
      "cell_type": "markdown",
      "metadata": {
        "id": "RZGBgkfGQKY6"
      },
      "source": [
        "Current best: oof_loss= 0.0165\n",
        "\n",
        "seed=1, k=8, use_nonscored=False\n",
        "\n",
        "model:\n",
        "\n",
        "        Dense(2100, activation='elu', input_shape=(876,)kernel_initializer='he_normal'),\n",
        "        BatchNormalization(),\n",
        "        Dropout(0.4),\n",
        "\n",
        "        Dense(1024, activation='elu',kernel_initializer='he_normal'),\n",
        "        BatchNormalization(),\n",
        "        Dropout(0.4),\n",
        "\n",
        "        Dense(1024, activation='elu',kernel_initializer='he_normal'),\n",
        "        BatchNormalization(),\n",
        "        Dropout(0.4),\n",
        "        Dense(out_layer_size, activation='sigmoid')"
      ]
    },
    {
      "cell_type": "code",
      "metadata": {
        "id": "eFSUdyhidCMT"
      },
      "source": [
        "test_pred.head(3)"
      ],
      "execution_count": null,
      "outputs": []
    },
    {
      "cell_type": "code",
      "metadata": {
        "id": "8EsSVWw3qJ9R"
      },
      "source": [
        ""
      ],
      "execution_count": null,
      "outputs": []
    }
  ]
}